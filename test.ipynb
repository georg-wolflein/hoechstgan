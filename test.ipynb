{
 "cells": [
  {
   "cell_type": "code",
   "execution_count": 7,
   "metadata": {},
   "outputs": [
    {
     "name": "stdout",
     "output_type": "stream",
     "text": [
      "input:\n",
      "  props:\n",
      "    channel: H3342\n",
      "    mode: raw\n",
      "  transforms: []\n",
      "  num_channels: 1\n",
      "output:\n",
      "  props:\n",
      "    channel: Cy3\n",
      "    mode: raw\n",
      "  transforms: []\n",
      "  num_channels: 1\n",
      "\n"
     ]
    }
   ],
   "source": [
    "from hydra import initialize, compose\n",
    "from hydra.core.global_hydra import GlobalHydra\n",
    "from omegaconf import OmegaConf, DictConfig\n",
    "import matplotlib.pyplot as plt\n",
    "import numpy as np\n",
    "from pathlib import Path\n",
    "import json\n",
    "from PIL import Image\n",
    "import sklearn.metrics\n",
    "import itertools\n",
    "from functools import partial\n",
    "from skimage.morphology import label\n",
    "\n",
    "from hoechstgan.data import create_dataset\n",
    "from hoechstgan.models import create_model\n",
    "from hoechstgan.util.dataset import get_channel_file_from_metadata\n",
    "\n",
    "GlobalHydra().clear()\n",
    "initialize(config_path=\"conf\")\n",
    "cfg = compose(\"test.yaml\", overrides=[\"+experiment=cy3\"])\n",
    "\n",
    "print(OmegaConf.to_yaml({\"input\": cfg.dataset.input, \"output\": cfg.dataset.output}))\n",
    "\n"
   ]
  },
  {
   "cell_type": "code",
   "execution_count": null,
   "metadata": {},
   "outputs": [],
   "source": []
  }
 ],
 "metadata": {
  "interpreter": {
   "hash": "396525f2b68bd8b3e9d062e85bec717a525d130921e29525f512b0fba023ef9c"
  },
  "kernelspec": {
   "display_name": "Python 3.9.12 ('hoechstgan-9TtSrW0h-py3.9')",
   "language": "python",
   "name": "python3"
  },
  "language_info": {
   "codemirror_mode": {
    "name": "ipython",
    "version": 3
   },
   "file_extension": ".py",
   "mimetype": "text/x-python",
   "name": "python",
   "nbconvert_exporter": "python",
   "pygments_lexer": "ipython3",
   "version": "3.9.12"
  },
  "orig_nbformat": 4
 },
 "nbformat": 4,
 "nbformat_minor": 2
}
