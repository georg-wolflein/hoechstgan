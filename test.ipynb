{
 "cells": [
  {
   "cell_type": "code",
   "execution_count": 4,
   "metadata": {},
   "outputs": [],
   "source": [
    "import numpy as np\n",
    "import pandas as pd\n",
    "import matplotlib.pyplot as plt"
   ]
  },
  {
   "cell_type": "code",
   "execution_count": 6,
   "metadata": {},
   "outputs": [
    {
     "data": {
      "text/html": [
       "<div>\n",
       "<style scoped>\n",
       "    .dataframe tbody tr th:only-of-type {\n",
       "        vertical-align: middle;\n",
       "    }\n",
       "\n",
       "    .dataframe tbody tr th {\n",
       "        vertical-align: top;\n",
       "    }\n",
       "\n",
       "    .dataframe thead th {\n",
       "        text-align: right;\n",
       "    }\n",
       "</style>\n",
       "<table border=\"1\" class=\"dataframe\">\n",
       "  <thead>\n",
       "    <tr style=\"text-align: right;\">\n",
       "      <th></th>\n",
       "      <th>CD3+ cells</th>\n",
       "      <th>CD3 real MIR</th>\n",
       "      <th>CD3 fake MIR</th>\n",
       "      <th>CD3 relative MIR</th>\n",
       "      <th>CD8+ cells</th>\n",
       "      <th>CD8 real MIR</th>\n",
       "      <th>CD8 fake MIR</th>\n",
       "      <th>CD8 relative MIR</th>\n",
       "    </tr>\n",
       "  </thead>\n",
       "  <tbody>\n",
       "    <tr>\n",
       "      <th>count</th>\n",
       "      <td>4880.000000</td>\n",
       "      <td>4801.000000</td>\n",
       "      <td>4801.000000</td>\n",
       "      <td>4800.000000</td>\n",
       "      <td>4880.000000</td>\n",
       "      <td>4081.000000</td>\n",
       "      <td>4.080000e+03</td>\n",
       "      <td>4.080000e+03</td>\n",
       "    </tr>\n",
       "    <tr>\n",
       "      <th>mean</th>\n",
       "      <td>4.979098</td>\n",
       "      <td>19.344376</td>\n",
       "      <td>162.573249</td>\n",
       "      <td>7.032602</td>\n",
       "      <td>3.273975</td>\n",
       "      <td>8.037556</td>\n",
       "      <td>2.613090e+03</td>\n",
       "      <td>2.008748e+02</td>\n",
       "    </tr>\n",
       "    <tr>\n",
       "      <th>std</th>\n",
       "      <td>4.108985</td>\n",
       "      <td>129.526402</td>\n",
       "      <td>1185.510919</td>\n",
       "      <td>46.167539</td>\n",
       "      <td>3.364046</td>\n",
       "      <td>11.148661</td>\n",
       "      <td>1.610109e+05</td>\n",
       "      <td>1.203189e+04</td>\n",
       "    </tr>\n",
       "    <tr>\n",
       "      <th>min</th>\n",
       "      <td>0.000000</td>\n",
       "      <td>0.000000</td>\n",
       "      <td>0.000000</td>\n",
       "      <td>0.000000</td>\n",
       "      <td>0.000000</td>\n",
       "      <td>0.000000</td>\n",
       "      <td>8.909926e-07</td>\n",
       "      <td>3.905044e-07</td>\n",
       "    </tr>\n",
       "    <tr>\n",
       "      <th>25%</th>\n",
       "      <td>2.000000</td>\n",
       "      <td>8.751435</td>\n",
       "      <td>6.541234</td>\n",
       "      <td>0.598691</td>\n",
       "      <td>1.000000</td>\n",
       "      <td>4.531718</td>\n",
       "      <td>2.311813e+00</td>\n",
       "      <td>3.877389e-01</td>\n",
       "    </tr>\n",
       "    <tr>\n",
       "      <th>50%</th>\n",
       "      <td>4.000000</td>\n",
       "      <td>12.654789</td>\n",
       "      <td>12.321036</td>\n",
       "      <td>1.040821</td>\n",
       "      <td>2.000000</td>\n",
       "      <td>6.173827</td>\n",
       "      <td>3.641766e+00</td>\n",
       "      <td>6.481942e-01</td>\n",
       "    </tr>\n",
       "    <tr>\n",
       "      <th>75%</th>\n",
       "      <td>7.000000</td>\n",
       "      <td>19.643873</td>\n",
       "      <td>32.198177</td>\n",
       "      <td>2.300886</td>\n",
       "      <td>5.000000</td>\n",
       "      <td>8.803667</td>\n",
       "      <td>6.620225e+00</td>\n",
       "      <td>1.090650e+00</td>\n",
       "    </tr>\n",
       "    <tr>\n",
       "      <th>max</th>\n",
       "      <td>36.000000</td>\n",
       "      <td>8865.395508</td>\n",
       "      <td>42961.630000</td>\n",
       "      <td>1675.077515</td>\n",
       "      <td>28.000000</td>\n",
       "      <td>482.335327</td>\n",
       "      <td>1.028408e+07</td>\n",
       "      <td>7.683424e+05</td>\n",
       "    </tr>\n",
       "  </tbody>\n",
       "</table>\n",
       "</div>"
      ],
      "text/plain": [
       "        CD3+ cells  CD3 real MIR  CD3 fake MIR  CD3 relative MIR   CD8+ cells  \\\n",
       "count  4880.000000   4801.000000   4801.000000       4800.000000  4880.000000   \n",
       "mean      4.979098     19.344376    162.573249          7.032602     3.273975   \n",
       "std       4.108985    129.526402   1185.510919         46.167539     3.364046   \n",
       "min       0.000000      0.000000      0.000000          0.000000     0.000000   \n",
       "25%       2.000000      8.751435      6.541234          0.598691     1.000000   \n",
       "50%       4.000000     12.654789     12.321036          1.040821     2.000000   \n",
       "75%       7.000000     19.643873     32.198177          2.300886     5.000000   \n",
       "max      36.000000   8865.395508  42961.630000       1675.077515    28.000000   \n",
       "\n",
       "       CD8 real MIR  CD8 fake MIR  CD8 relative MIR  \n",
       "count   4081.000000  4.080000e+03      4.080000e+03  \n",
       "mean       8.037556  2.613090e+03      2.008748e+02  \n",
       "std       11.148661  1.610109e+05      1.203189e+04  \n",
       "min        0.000000  8.909926e-07      3.905044e-07  \n",
       "25%        4.531718  2.311813e+00      3.877389e-01  \n",
       "50%        6.173827  3.641766e+00      6.481942e-01  \n",
       "75%        8.803667  6.620225e+00      1.090650e+00  \n",
       "max      482.335327  1.028408e+07      7.683424e+05  "
      ]
     },
     "execution_count": 6,
     "metadata": {},
     "output_type": "execute_result"
    }
   ],
   "source": [
    "df = pd.read_csv(\"test_hoechstgan_14yakwdx.csv\")\n",
    "df.describe()"
   ]
  },
  {
   "cell_type": "code",
   "execution_count": 7,
   "metadata": {},
   "outputs": [
    {
     "data": {
      "image/png": "[encoded data removed]",
      "text/plain": [
       "<Figure size 432x288 with 1 Axes>"
      ]
     },
     "metadata": {
      "needs_background": "light"
     },
     "output_type": "display_data"
    },
    {
     "data": {
      "image/png": "[encoded data removed]",
      "text/plain": [
       "<Figure size 432x288 with 1 Axes>"
      ]
     },
     "metadata": {
      "needs_background": "light"
     },
     "output_type": "display_data"
    },
    {
     "data": {
      "image/png": "[encoded data removed]",
      "text/plain": [
       "<Figure size 432x288 with 1 Axes>"
      ]
     },
     "metadata": {
      "needs_background": "light"
     },
     "output_type": "display_data"
    },
    {
     "data": {
      "image/png": "[encoded data removed]",
      "text/plain": [
       "<Figure size 432x288 with 1 Axes>"
      ]
     },
     "metadata": {
      "needs_background": "light"
     },
     "output_type": "display_data"
    }
   ],
   "source": [
    "def plot_hist(col, color=None):\n",
    "    x = np.array(df[col])\n",
    "    x = x[~np.isnan(x)]\n",
    "    x[x == 0] = 1e-5\n",
    "    x = np.log(x)\n",
    "    plt.hist(x, bins=200, alpha=.7, label=col, color=color)\n",
    "    plt.xlim(-15, 15)\n",
    "    plt.xlabel(\"ln(MIR)\")\n",
    "    plt.ylabel(\"frequency\")\n",
    "    plt.tight_layout()\n",
    "\n",
    "plt.figure()\n",
    "plot_hist(\"CD3 real MIR\")\n",
    "plot_hist(\"CD3 fake MIR\")\n",
    "plt.legend()\n",
    "plt.savefig(\"mir_real_fake_cd3.png\")\n",
    "\n",
    "plt.figure()\n",
    "plot_hist(\"CD8 real MIR\")\n",
    "plot_hist(\"CD8 fake MIR\")\n",
    "plt.legend()\n",
    "plt.savefig(\"mir_real_fake_cd8.png\")\n",
    "\n",
    "plt.figure()\n",
    "plot_hist(\"CD3 relative MIR\")\n",
    "plt.legend()\n",
    "plt.savefig(\"mir_relative_cd3.png\")\n",
    "\n",
    "plt.figure()\n",
    "plot_hist(\"CD8 relative MIR\")\n",
    "plt.legend()\n",
    "plt.savefig(\"mir_relative_cd8.png\")"
   ]
  },
  {
   "cell_type": "code",
   "execution_count": null,
   "metadata": {},
   "outputs": [],
   "source": []
  }
 ],
 "metadata": {
  "interpreter": {
   "hash": "396525f2b68bd8b3e9d062e85bec717a525d130921e29525f512b0fba023ef9c"
  },
  "kernelspec": {
   "display_name": "Python 3.9.13 ('hoechstgan-9TtSrW0h-py3.9')",
   "language": "python",
   "name": "python3"
  },
  "language_info": {
   "codemirror_mode": {
    "name": "ipython",
    "version": 3
   },
   "file_extension": ".py",
   "mimetype": "text/x-python",
   "name": "python",
   "nbconvert_exporter": "python",
   "pygments_lexer": "ipython3",
   "version": "3.9.13"
  },
  "orig_nbformat": 4
 },
 "nbformat": 4,
 "nbformat_minor": 2
}
