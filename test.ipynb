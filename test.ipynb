{
 "cells": [
  {
   "cell_type": "code",
   "execution_count": 1,
   "metadata": {},
   "outputs": [],
   "source": [
    "import numpy as np\n",
    "import pandas as pd\n",
    "import matplotlib.pyplot as plt"
   ]
  },
  {
   "cell_type": "code",
   "execution_count": 2,
   "metadata": {},
   "outputs": [
    {
     "data": {
      "text/html": [
       "<div>\n",
       "<style scoped>\n",
       "    .dataframe tbody tr th:only-of-type {\n",
       "        vertical-align: middle;\n",
       "    }\n",
       "\n",
       "    .dataframe tbody tr th {\n",
       "        vertical-align: top;\n",
       "    }\n",
       "\n",
       "    .dataframe thead th {\n",
       "        text-align: right;\n",
       "    }\n",
       "</style>\n",
       "<table border=\"1\" class=\"dataframe\">\n",
       "  <thead>\n",
       "    <tr style=\"text-align: right;\">\n",
       "      <th></th>\n",
       "      <th>CD3+ cells</th>\n",
       "      <th>CD3 real MIR</th>\n",
       "      <th>CD3 fake MIR</th>\n",
       "      <th>CD3 relative MIR</th>\n",
       "      <th>CD8+ cells</th>\n",
       "      <th>CD8 real MIR</th>\n",
       "      <th>CD8 fake MIR</th>\n",
       "      <th>CD8 relative MIR</th>\n",
       "    </tr>\n",
       "  </thead>\n",
       "  <tbody>\n",
       "    <tr>\n",
       "      <th>count</th>\n",
       "      <td>4880.000000</td>\n",
       "      <td>4801.000000</td>\n",
       "      <td>4801.000000</td>\n",
       "      <td>4800.000000</td>\n",
       "      <td>4880.000000</td>\n",
       "      <td>4081.000000</td>\n",
       "      <td>4080.000000</td>\n",
       "      <td>4080.000000</td>\n",
       "    </tr>\n",
       "    <tr>\n",
       "      <th>mean</th>\n",
       "      <td>4.979098</td>\n",
       "      <td>19.344376</td>\n",
       "      <td>213.600646</td>\n",
       "      <td>11.029955</td>\n",
       "      <td>3.273975</td>\n",
       "      <td>8.037556</td>\n",
       "      <td>58.410504</td>\n",
       "      <td>4.914229</td>\n",
       "    </tr>\n",
       "    <tr>\n",
       "      <th>std</th>\n",
       "      <td>4.108985</td>\n",
       "      <td>129.526402</td>\n",
       "      <td>3433.650124</td>\n",
       "      <td>254.072877</td>\n",
       "      <td>3.364046</td>\n",
       "      <td>11.148661</td>\n",
       "      <td>884.037782</td>\n",
       "      <td>56.521789</td>\n",
       "    </tr>\n",
       "    <tr>\n",
       "      <th>min</th>\n",
       "      <td>0.000000</td>\n",
       "      <td>0.000000</td>\n",
       "      <td>0.000000</td>\n",
       "      <td>0.000000</td>\n",
       "      <td>0.000000</td>\n",
       "      <td>0.000000</td>\n",
       "      <td>0.000000</td>\n",
       "      <td>0.000000</td>\n",
       "    </tr>\n",
       "    <tr>\n",
       "      <th>25%</th>\n",
       "      <td>2.000000</td>\n",
       "      <td>8.751435</td>\n",
       "      <td>5.026796</td>\n",
       "      <td>0.451226</td>\n",
       "      <td>1.000000</td>\n",
       "      <td>4.531718</td>\n",
       "      <td>3.200984</td>\n",
       "      <td>0.568642</td>\n",
       "    </tr>\n",
       "    <tr>\n",
       "      <th>50%</th>\n",
       "      <td>4.000000</td>\n",
       "      <td>12.654789</td>\n",
       "      <td>9.081493</td>\n",
       "      <td>0.779839</td>\n",
       "      <td>2.000000</td>\n",
       "      <td>6.173827</td>\n",
       "      <td>5.309432</td>\n",
       "      <td>0.914504</td>\n",
       "    </tr>\n",
       "    <tr>\n",
       "      <th>75%</th>\n",
       "      <td>7.000000</td>\n",
       "      <td>19.643873</td>\n",
       "      <td>24.275234</td>\n",
       "      <td>1.743083</td>\n",
       "      <td>5.000000</td>\n",
       "      <td>8.803667</td>\n",
       "      <td>11.152343</td>\n",
       "      <td>1.674938</td>\n",
       "    </tr>\n",
       "    <tr>\n",
       "      <th>max</th>\n",
       "      <td>36.000000</td>\n",
       "      <td>8865.395508</td>\n",
       "      <td>170192.380000</td>\n",
       "      <td>15808.820312</td>\n",
       "      <td>28.000000</td>\n",
       "      <td>482.335327</td>\n",
       "      <td>41747.156000</td>\n",
       "      <td>2454.824463</td>\n",
       "    </tr>\n",
       "  </tbody>\n",
       "</table>\n",
       "</div>"
      ],
      "text/plain": [
       "        CD3+ cells  CD3 real MIR   CD3 fake MIR  CD3 relative MIR  \\\n",
       "count  4880.000000   4801.000000    4801.000000       4800.000000   \n",
       "mean      4.979098     19.344376     213.600646         11.029955   \n",
       "std       4.108985    129.526402    3433.650124        254.072877   \n",
       "min       0.000000      0.000000       0.000000          0.000000   \n",
       "25%       2.000000      8.751435       5.026796          0.451226   \n",
       "50%       4.000000     12.654789       9.081493          0.779839   \n",
       "75%       7.000000     19.643873      24.275234          1.743083   \n",
       "max      36.000000   8865.395508  170192.380000      15808.820312   \n",
       "\n",
       "        CD8+ cells  CD8 real MIR  CD8 fake MIR  CD8 relative MIR  \n",
       "count  4880.000000   4081.000000   4080.000000       4080.000000  \n",
       "mean      3.273975      8.037556     58.410504          4.914229  \n",
       "std       3.364046     11.148661    884.037782         56.521789  \n",
       "min       0.000000      0.000000      0.000000          0.000000  \n",
       "25%       1.000000      4.531718      3.200984          0.568642  \n",
       "50%       2.000000      6.173827      5.309432          0.914504  \n",
       "75%       5.000000      8.803667     11.152343          1.674938  \n",
       "max      28.000000    482.335327  41747.156000       2454.824463  "
      ]
     },
     "execution_count": 2,
     "metadata": {},
     "output_type": "execute_result"
    }
   ],
   "source": [
    "df = pd.read_csv(\"vis/hoechstgan_basic_2qxrg3f7_test__metrics.csv\")\n",
    "df.describe()"
   ]
  },
  {
   "cell_type": "code",
   "execution_count": 3,
   "metadata": {},
   "outputs": [
    {
     "data": {
      "image/png": "[encoded data removed]",
      "text/plain": [
       "<Figure size 432x288 with 1 Axes>"
      ]
     },
     "metadata": {
      "needs_background": "light"
     },
     "output_type": "display_data"
    },
    {
     "data": {
      "image/png": "[encoded data removed]",
      "text/plain": [
       "<Figure size 432x288 with 1 Axes>"
      ]
     },
     "metadata": {
      "needs_background": "light"
     },
     "output_type": "display_data"
    },
    {
     "data": {
      "image/png": "[encoded data removed]",
      "text/plain": [
       "<Figure size 432x288 with 1 Axes>"
      ]
     },
     "metadata": {
      "needs_background": "light"
     },
     "output_type": "display_data"
    },
    {
     "data": {
      "image/png": "[encoded data removed]",
      "text/plain": [
       "<Figure size 432x288 with 1 Axes>"
      ]
     },
     "metadata": {
      "needs_background": "light"
     },
     "output_type": "display_data"
    }
   ],
   "source": [
    "def plot_hist(col, color=None):\n",
    "    x = np.array(df[col])\n",
    "    x = x[~np.isnan(x)]\n",
    "    x[x == 0] = 1e-5\n",
    "    x = np.log(x)\n",
    "    plt.hist(x, bins=200, alpha=.7, label=col, color=color)\n",
    "    plt.xlim(-15, 15)\n",
    "    plt.xlabel(\"ln(MIR)\")\n",
    "    plt.ylabel(\"frequency\")\n",
    "    plt.tight_layout()\n",
    "\n",
    "plt.figure()\n",
    "plot_hist(\"CD3 real MIR\")\n",
    "plot_hist(\"CD3 fake MIR\")\n",
    "plt.legend()\n",
    "plt.savefig(\"mir_real_fake_cd3.png\")\n",
    "\n",
    "plt.figure()\n",
    "plot_hist(\"CD8 real MIR\")\n",
    "plot_hist(\"CD8 fake MIR\")\n",
    "plt.legend()\n",
    "plt.savefig(\"mir_real_fake_cd8.png\")\n",
    "\n",
    "plt.figure()\n",
    "plot_hist(\"CD3 relative MIR\")\n",
    "plt.legend()\n",
    "plt.savefig(\"mir_relative_cd3.png\")\n",
    "\n",
    "plt.figure()\n",
    "plot_hist(\"CD8 relative MIR\")\n",
    "plt.legend()\n",
    "plt.savefig(\"mir_relative_cd8.png\")"
   ]
  },
  {
   "cell_type": "code",
   "execution_count": null,
   "metadata": {},
   "outputs": [],
   "source": []
  }
 ],
 "metadata": {
  "kernelspec": {
   "display_name": "Python 3.9.13 64-bit",
   "language": "python",
   "name": "python3"
  },
  "language_info": {
   "codemirror_mode": {
    "name": "ipython",
    "version": 3
   },
   "file_extension": ".py",
   "mimetype": "text/x-python",
   "name": "python",
   "nbconvert_exporter": "python",
   "pygments_lexer": "ipython3",
   "version": "3.9.13"
  },
  "orig_nbformat": 4,
  "vscode": {
   "interpreter": {
    "hash": "f9f85f796d01129d0dd105a088854619f454435301f6ffec2fea96ecbd9be4ac"
   }
  }
 },
 "nbformat": 4,
 "nbformat_minor": 2
}
